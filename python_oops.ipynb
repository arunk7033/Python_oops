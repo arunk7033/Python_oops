{
 "cells": [
  {
   "cell_type": "markdown",
   "id": "986afcdd",
   "metadata": {},
   "source": [
    "# Object oriented programming"
   ]
  },
  {
   "cell_type": "markdown",
   "id": "17e9a1ca",
   "metadata": {},
   "source": [
    "## 1. Classes and Objects"
   ]
  },
  {
   "cell_type": "markdown",
   "id": "7f480105",
   "metadata": {},
   "source": [
    "### -Class: A blueprint for creating objects. It defines attributes (data) and methods (functions) that the objects created from the class can use."
   ]
  },
  {
   "cell_type": "markdown",
   "id": "95bec296",
   "metadata": {},
   "source": [
    "### -Object: An instance of a class."
   ]
  },
  {
   "cell_type": "code",
   "execution_count": 4,
   "id": "dfd7c000",
   "metadata": {},
   "outputs": [
    {
     "name": "stdout",
     "output_type": "stream",
     "text": [
      "Buddy is 3 years old.\n",
      "Lucy says woof.\n"
     ]
    }
   ],
   "source": [
    "# Example:\n",
    "\n",
    "class Dog:\n",
    "    #class attribute\n",
    "    species='Canis familiaris'\n",
    "    #Initialize/Instance attributes\n",
    "    def __init__(self,name,age):\n",
    "        self.name=name\n",
    "        self.age=age\n",
    "    #Instance method\n",
    "    def description(self):\n",
    "        return f\"{self.name} is {self.age} years old.\"\n",
    "    #Another instance method\n",
    "    def speak(self, sound):\n",
    "        return f\"{self.name} says {sound}.\"\n",
    "    \n",
    "#Creating objects\n",
    "dog1=Dog(\"Buddy\",3)\n",
    "dog2=Dog(\"Lucy\",5)\n",
    "\n",
    "print(dog1.description())\n",
    "print(dog2.speak(\"woof\"))"
   ]
  },
  {
   "cell_type": "markdown",
   "id": "c137d02a",
   "metadata": {},
   "source": [
    "## 2. Inheritance"
   ]
  },
  {
   "cell_type": "markdown",
   "id": "93a82976",
   "metadata": {},
   "source": [
    "### Inheritance allows a class (child class) to inherit attributes and methods from another class (parent class), promoting code reusability."
   ]
  },
  {
   "cell_type": "code",
   "execution_count": 8,
   "id": "13a5cf8a",
   "metadata": {},
   "outputs": [
    {
     "name": "stdout",
     "output_type": "stream",
     "text": [
      "whiskers is eating.\n",
      "whiskers says Meow\n"
     ]
    }
   ],
   "source": [
    "class Animal:\n",
    "    def __init__(self,name):\n",
    "        self.name=name\n",
    "    def eat(self):\n",
    "        return f\"{self.name} is eating.\"\n",
    "    \n",
    "class Cat(Animal):\n",
    "    def __init__(self,name,colour):\n",
    "        super().__init__(name)\n",
    "        self.colour=colour\n",
    "    def meow(self):\n",
    "        return f\"{self.name} says Meow\"\n",
    "\n",
    "#Creating an object of cat class\n",
    "cat1=Cat(\"whiskers\",\"black\")\n",
    "print(cat1.eat())\n",
    "print(cat1.meow())"
   ]
  },
  {
   "cell_type": "markdown",
   "id": "85dba7ae",
   "metadata": {},
   "source": [
    "## 3. Encapsulation"
   ]
  },
  {
   "cell_type": "markdown",
   "id": "880499da",
   "metadata": {},
   "source": [
    "### Encapsulation is the concept of wrapping data (attributes) and methods (functions) within a single unit (class) and restricting access to some of the object's components."
   ]
  },
  {
   "cell_type": "code",
   "execution_count": 19,
   "id": "d22de491",
   "metadata": {},
   "outputs": [
    {
     "name": "stdout",
     "output_type": "stream",
     "text": [
      "Added 100. New balance:100\n",
      "Withdrew 50. New balance: 50\n",
      "50\n"
     ]
    }
   ],
   "source": [
    "class BankAccount:\n",
    "    def __init__(self,owner,balance=0):\n",
    "        self.owner=owner\n",
    "        self.__balance=balance\n",
    "        \n",
    "    def deposit(self,amount):\n",
    "        self.__balance+=amount  #Private attribute\n",
    "        return f\"Added {amount}. New balance:{self.__balance}\"\n",
    "    \n",
    "    def withdraw(self,amount):\n",
    "        if amount > self.__balance:\n",
    "            return \"Insufficient funds.\"\n",
    "        else:\n",
    "            self.__balance-=amount\n",
    "            return f\"Withdrew {amount}. New balance: {self.__balance}\"\n",
    "        \n",
    "    def get_balance(self):\n",
    "        return self.__balance\n",
    "    \n",
    "# Creating an object of BankAccount\n",
    "account=BankAccount(\"John\")\n",
    "print(account.deposit(100))\n",
    "print(account.withdraw(50))\n",
    "print(account.get_balance())\n",
    "# print(account.__balance)  # This would raise an AttributeError"
   ]
  },
  {
   "cell_type": "markdown",
   "id": "5b3f567f",
   "metadata": {},
   "source": [
    "## 4. Polymorphishm"
   ]
  },
  {
   "cell_type": "markdown",
   "id": "696ac4b0",
   "metadata": {},
   "source": [
    "### Polymorphism allows methods to do different things based on the object it is acting upon, even though they share the same name."
   ]
  },
  {
   "cell_type": "code",
   "execution_count": 21,
   "id": "8154de63",
   "metadata": {},
   "outputs": [
    {
     "name": "stdout",
     "output_type": "stream",
     "text": [
      "Chirp\n",
      "Caw\n"
     ]
    }
   ],
   "source": [
    "class Bird:\n",
    "    def sound(self):\n",
    "        return \"Some generic bird sound\"\n",
    "class Sparrow(Bird):\n",
    "    def sound(self):\n",
    "        return \"Chirp\"\n",
    "class Crow(Bird):\n",
    "    def sound(self):\n",
    "        return \"Caw\"\n",
    "    \n",
    "# Demostrating polymorphism\n",
    "def make_sound(bird):\n",
    "    print(bird.sound())\n",
    "\n",
    "sparrow=Sparrow()\n",
    "crow=Crow()\n",
    "\n",
    "make_sound(sparrow)\n",
    "make_sound(crow)"
   ]
  },
  {
   "cell_type": "markdown",
   "id": "d5969eca",
   "metadata": {},
   "source": [
    "## 5. Abstraction"
   ]
  },
  {
   "cell_type": "markdown",
   "id": "62620afb",
   "metadata": {},
   "source": [
    "### Abstraction is the concept of hiding complex implementation details and showing only the necessary features of an object."
   ]
  },
  {
   "cell_type": "code",
   "execution_count": 25,
   "id": "6569cc96",
   "metadata": {},
   "outputs": [
    {
     "name": "stdout",
     "output_type": "stream",
     "text": [
      "Area: 28\n",
      "Perimeter: 22\n"
     ]
    }
   ],
   "source": [
    "from abc import ABC, abstractmethod\n",
    "\n",
    "class Shape(ABC):\n",
    "    @abstractmethod\n",
    "    def area(self):\n",
    "        pass\n",
    "    @abstractmethod\n",
    "    def perimeter(self):\n",
    "        pass\n",
    "class Rectangle(Shape):\n",
    "    def __init__(self,width,height):\n",
    "        self.width=width\n",
    "        self.height=height\n",
    "    def area(self):\n",
    "        return self.width*self.height\n",
    "    def perimeter(self):\n",
    "        return 2* (self.width + self.height)\n",
    "    \n",
    "# Creating an object of Rectangle\n",
    "rectangle=Rectangle(4,7)\n",
    "print(f\"Area: {rectangle.area()}\")\n",
    "print(f\"Perimeter: {rectangle.perimeter()}\")"
   ]
  },
  {
   "cell_type": "code",
   "execution_count": null,
   "id": "91d15b04",
   "metadata": {},
   "outputs": [],
   "source": []
  }
 ],
 "metadata": {
  "kernelspec": {
   "display_name": "Python 3 (ipykernel)",
   "language": "python",
   "name": "python3"
  },
  "language_info": {
   "codemirror_mode": {
    "name": "ipython",
    "version": 3
   },
   "file_extension": ".py",
   "mimetype": "text/x-python",
   "name": "python",
   "nbconvert_exporter": "python",
   "pygments_lexer": "ipython3",
   "version": "3.11.7"
  }
 },
 "nbformat": 4,
 "nbformat_minor": 5
}
